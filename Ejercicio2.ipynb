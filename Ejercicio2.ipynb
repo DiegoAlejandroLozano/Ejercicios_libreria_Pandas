{
 "cells": [
  {
   "cell_type": "markdown",
   "metadata": {},
   "source": [
    "Escribir una función que reciba un diccionario con las notas de los alumno de un curso y devuelva una serie con la nota mínima, la máxima, media y la desviación típica."
   ]
  },
  {
   "cell_type": "code",
   "execution_count": 5,
   "metadata": {},
   "outputs": [],
   "source": [
    "import pandas as pd\n",
    "import statistics"
   ]
  },
  {
   "cell_type": "code",
   "execution_count": 6,
   "metadata": {},
   "outputs": [],
   "source": [
    "def calculo_estadistico(dic):\n",
    "    '''Función encargada de encontrar la nota mínima, máxima, la media y la\n",
    "    desviación típica de los registros ingresados por el usuario'''\n",
    "    nota_minima = min(dic.values())\n",
    "    nota_maxima = max(dic.values())\n",
    "    nota_media = statistics.fmean(dic.values())\n",
    "    nota_desviacion = statistics.pstdev(dic.values())\n",
    "    datos = {\n",
    "        'Nota mínima':nota_minima,\n",
    "        'Nota máxima':nota_maxima,\n",
    "        'La media':nota_media,\n",
    "        'Desviación típica':nota_desviacion\n",
    "    }\n",
    "    serie = pd.Series(datos)\n",
    "    return serie"
   ]
  },
  {
   "cell_type": "code",
   "execution_count": 8,
   "metadata": {},
   "outputs": [
    {
     "data": {
      "text/plain": [
       "{'Juan': 9.0, 'María': 6.5, 'Pedro': 4.0, 'Carmen': 8.5, 'Luis': 5.0}"
      ]
     },
     "execution_count": 8,
     "metadata": {},
     "output_type": "execute_result"
    }
   ],
   "source": [
    "#Ingresando los registros por parte del usuario\n",
    "n = int(input(\"Cantidad de registros: \"))\n",
    "registros = {}\n",
    "for _ in range(n):\n",
    "    nombre, nota = input(\"Ingrese el nombre del alumno y su nota, separados por un espacio: \").split(' ')\n",
    "    registros[nombre] = float(nota)\n",
    "registros"
   ]
  },
  {
   "cell_type": "code",
   "execution_count": 9,
   "metadata": {},
   "outputs": [
    {
     "data": {
      "text/plain": [
       "Nota mínima          4.000000\n",
       "Nota máxima          9.000000\n",
       "La media             6.600000\n",
       "Desviación típica    1.933908\n",
       "dtype: float64"
      ]
     },
     "execution_count": 9,
     "metadata": {},
     "output_type": "execute_result"
    }
   ],
   "source": [
    "#Realizando los cálculos estadísticos de los registros\n",
    "calculo_estadistico(registros)"
   ]
  }
 ],
 "metadata": {
  "interpreter": {
   "hash": "a0b743e3f46610aef585505bfb8ed266070dd1178baff540cb1eb86ae22f2f85"
  },
  "kernelspec": {
   "display_name": "Python 3.9.13 64-bit",
   "language": "python",
   "name": "python3"
  },
  "language_info": {
   "codemirror_mode": {
    "name": "ipython",
    "version": 3
   },
   "file_extension": ".py",
   "mimetype": "text/x-python",
   "name": "python",
   "nbconvert_exporter": "python",
   "pygments_lexer": "ipython3",
   "version": "3.9.13"
  },
  "orig_nbformat": 4
 },
 "nbformat": 4,
 "nbformat_minor": 2
}
