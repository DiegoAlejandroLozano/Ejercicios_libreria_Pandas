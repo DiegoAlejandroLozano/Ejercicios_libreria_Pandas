{
 "cells": [
  {
   "cell_type": "markdown",
   "metadata": {},
   "source": [
    "**Ejercicio 6**\n",
    "\n",
    "El fichero cotizacion.csv contiene las cotizaciones de las empresas del IBEX35 con las siguientes columnas: nombre (nombre de la empresa), Final (precio de la acción al cierre de bolsa), Máximo (precio máximo de la acción durante la jornada), Mínimo (precio mínimo de la acción durante la jornada), volumen (Volumen al cierre de bolsa), Efectivo (capitalización al cierre en miles de euros). Construir una función que construya un DataFrame a partir del un fichero con el formato anterior y devuelva otro DataFrame con el mínimo, el máximo y la media de dada columna."
   ]
  },
  {
   "cell_type": "code",
   "execution_count": 1,
   "metadata": {},
   "outputs": [],
   "source": [
    "import pandas as pd"
   ]
  },
  {
   "cell_type": "code",
   "execution_count": 25,
   "metadata": {},
   "outputs": [],
   "source": [
    "def verificar_valores(archivo):\n",
    "    df1 = pd.read_csv(archivo, sep=';', decimal=',', thousands='.', index_col=0)\n",
    "    datos = [df1.min(axis=0), df1.max(axis=0), df1.mean(axis=0)]\n",
    "    return pd.DataFrame(datos, index=['Mínimo', 'Máximo', 'Media'])\n"
   ]
  },
  {
   "cell_type": "code",
   "execution_count": 26,
   "metadata": {},
   "outputs": [
    {
     "data": {
      "text/html": [
       "<div>\n",
       "<style scoped>\n",
       "    .dataframe tbody tr th:only-of-type {\n",
       "        vertical-align: middle;\n",
       "    }\n",
       "\n",
       "    .dataframe tbody tr th {\n",
       "        vertical-align: top;\n",
       "    }\n",
       "\n",
       "    .dataframe thead th {\n",
       "        text-align: right;\n",
       "    }\n",
       "</style>\n",
       "<table border=\"1\" class=\"dataframe\">\n",
       "  <thead>\n",
       "    <tr style=\"text-align: right;\">\n",
       "      <th></th>\n",
       "      <th>Final</th>\n",
       "      <th>Máximo</th>\n",
       "      <th>Mínimo</th>\n",
       "      <th>Volumen</th>\n",
       "      <th>Efectivo</th>\n",
       "    </tr>\n",
       "  </thead>\n",
       "  <tbody>\n",
       "    <tr>\n",
       "      <th>Mínimo</th>\n",
       "      <td>1.016500</td>\n",
       "      <td>4.067500</td>\n",
       "      <td>1.016500</td>\n",
       "      <td>1.221000e+03</td>\n",
       "      <td>2343.090</td>\n",
       "    </tr>\n",
       "    <tr>\n",
       "      <th>Máximo</th>\n",
       "      <td>19705.000000</td>\n",
       "      <td>19875.000000</td>\n",
       "      <td>19675.000000</td>\n",
       "      <td>3.612969e+07</td>\n",
       "      <td>145765.440</td>\n",
       "    </tr>\n",
       "    <tr>\n",
       "      <th>Media</th>\n",
       "      <td>2796.768757</td>\n",
       "      <td>3170.113357</td>\n",
       "      <td>3136.510471</td>\n",
       "      <td>4.252279e+06</td>\n",
       "      <td>31767.778</td>\n",
       "    </tr>\n",
       "  </tbody>\n",
       "</table>\n",
       "</div>"
      ],
      "text/plain": [
       "               Final        Máximo        Mínimo       Volumen    Efectivo\n",
       "Mínimo      1.016500      4.067500      1.016500  1.221000e+03    2343.090\n",
       "Máximo  19705.000000  19875.000000  19675.000000  3.612969e+07  145765.440\n",
       "Media    2796.768757   3170.113357   3136.510471  4.252279e+06   31767.778"
      ]
     },
     "execution_count": 26,
     "metadata": {},
     "output_type": "execute_result"
    }
   ],
   "source": [
    "verificar_valores('archivos_externos\\\\cotizacion.csv')"
   ]
  }
 ],
 "metadata": {
  "interpreter": {
   "hash": "a0b743e3f46610aef585505bfb8ed266070dd1178baff540cb1eb86ae22f2f85"
  },
  "kernelspec": {
   "display_name": "Python 3.9.13 64-bit",
   "language": "python",
   "name": "python3"
  },
  "language_info": {
   "codemirror_mode": {
    "name": "ipython",
    "version": 3
   },
   "file_extension": ".py",
   "mimetype": "text/x-python",
   "name": "python",
   "nbconvert_exporter": "python",
   "pygments_lexer": "ipython3",
   "version": "3.9.13"
  },
  "orig_nbformat": 4
 },
 "nbformat": 4,
 "nbformat_minor": 2
}
