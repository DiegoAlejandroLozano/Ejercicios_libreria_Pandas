{
 "cells": [
  {
   "cell_type": "markdown",
   "metadata": {},
   "source": [
    "Escribir un programa que pregunte al usuario por las ventas de un rango de años y muestre por pantalla una serie con los datos de las ventas indexada por los años, antes y después de aplicarles un descuento del 10%."
   ]
  },
  {
   "cell_type": "code",
   "execution_count": 9,
   "metadata": {},
   "outputs": [],
   "source": [
    "import pandas as pd"
   ]
  },
  {
   "cell_type": "code",
   "execution_count": 10,
   "metadata": {},
   "outputs": [
    {
     "name": "stdout",
     "output_type": "stream",
     "text": [
      "{'2010': 100000.0, '2011': 120000.0, '2012': 115000.0, '2013': 125000.0, '2014': 130000.0, '2015': 122000.0}\n"
     ]
    }
   ],
   "source": [
    "#Realizando el ingreso de los datos\n",
    "n = int(input(\"Cantidad de registros: \"))\n",
    "dic = {}\n",
    "for _ in range(n):\n",
    "    anio, venta = input(\"Ingrese el año y la venta separados por un espacio: \").split(' ')\n",
    "    dic[anio] = float(venta)\n",
    "print(dic)"
   ]
  },
  {
   "cell_type": "code",
   "execution_count": 11,
   "metadata": {},
   "outputs": [
    {
     "data": {
      "text/plain": [
       "2010    100000.0\n",
       "2011    120000.0\n",
       "2012    115000.0\n",
       "2013    125000.0\n",
       "2014    130000.0\n",
       "2015    122000.0\n",
       "dtype: float64"
      ]
     },
     "execution_count": 11,
     "metadata": {},
     "output_type": "execute_result"
    }
   ],
   "source": [
    "#Creando la serie con los datos ingresados por el usuario\n",
    "ventas = pd.Series(dic)\n",
    "ventas"
   ]
  },
  {
   "cell_type": "code",
   "execution_count": 14,
   "metadata": {},
   "outputs": [
    {
     "data": {
      "text/plain": [
       "2010     90000.0\n",
       "2011    108000.0\n",
       "2012    103500.0\n",
       "2013    112500.0\n",
       "2014    117000.0\n",
       "2015    109800.0\n",
       "dtype: float64"
      ]
     },
     "execution_count": 14,
     "metadata": {},
     "output_type": "execute_result"
    }
   ],
   "source": [
    "#Creando una nueva serie aplicando el descuento\n",
    "ventas_descuento = ventas.apply(lambda num: num - ((num*10)/100))\n",
    "ventas_descuento"
   ]
  }
 ],
 "metadata": {
  "interpreter": {
   "hash": "a0b743e3f46610aef585505bfb8ed266070dd1178baff540cb1eb86ae22f2f85"
  },
  "kernelspec": {
   "display_name": "Python 3.9.13 64-bit",
   "language": "python",
   "name": "python3"
  },
  "language_info": {
   "codemirror_mode": {
    "name": "ipython",
    "version": 3
   },
   "file_extension": ".py",
   "mimetype": "text/x-python",
   "name": "python",
   "nbconvert_exporter": "python",
   "pygments_lexer": "ipython3",
   "version": "3.9.13"
  },
  "orig_nbformat": 4
 },
 "nbformat": 4,
 "nbformat_minor": 2
}
